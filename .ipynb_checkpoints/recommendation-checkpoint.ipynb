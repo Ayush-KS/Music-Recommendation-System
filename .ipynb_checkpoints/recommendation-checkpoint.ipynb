{
 "cells": [
  {
   "cell_type": "code",
   "execution_count": 1,
   "metadata": {},
   "outputs": [],
   "source": [
    "import numpy as np\n",
    "import pandas as pd\n",
    "import matplotlib as plt\n",
    "import seaborn as sns\n",
    "import warnings"
   ]
  },
  {
   "cell_type": "code",
   "execution_count": 2,
   "metadata": {},
   "outputs": [],
   "source": [
    "warnings.filterwarnings(\"ignore\")"
   ]
  },
  {
   "cell_type": "code",
   "execution_count": 3,
   "metadata": {},
   "outputs": [
    {
     "data": {
      "text/html": [
       "<div>\n",
       "<style scoped>\n",
       "    .dataframe tbody tr th:only-of-type {\n",
       "        vertical-align: middle;\n",
       "    }\n",
       "\n",
       "    .dataframe tbody tr th {\n",
       "        vertical-align: top;\n",
       "    }\n",
       "\n",
       "    .dataframe thead th {\n",
       "        text-align: right;\n",
       "    }\n",
       "</style>\n",
       "<table border=\"1\" class=\"dataframe\">\n",
       "  <thead>\n",
       "    <tr style=\"text-align: right;\">\n",
       "      <th></th>\n",
       "      <th>song_id</th>\n",
       "      <th>title</th>\n",
       "      <th>release</th>\n",
       "      <th>artist_name</th>\n",
       "      <th>year</th>\n",
       "    </tr>\n",
       "  </thead>\n",
       "  <tbody>\n",
       "    <tr>\n",
       "      <th>0</th>\n",
       "      <td>SOQMMHC12AB0180CB8</td>\n",
       "      <td>Silent Night</td>\n",
       "      <td>Monster Ballads X-Mas</td>\n",
       "      <td>Faster Pussy cat</td>\n",
       "      <td>2003</td>\n",
       "    </tr>\n",
       "    <tr>\n",
       "      <th>1</th>\n",
       "      <td>SOVFVAK12A8C1350D9</td>\n",
       "      <td>Tanssi vaan</td>\n",
       "      <td>Karkuteillä</td>\n",
       "      <td>Karkkiautomaatti</td>\n",
       "      <td>1995</td>\n",
       "    </tr>\n",
       "    <tr>\n",
       "      <th>2</th>\n",
       "      <td>SOGTUKN12AB017F4F1</td>\n",
       "      <td>No One Could Ever</td>\n",
       "      <td>Butter</td>\n",
       "      <td>Hudson Mohawke</td>\n",
       "      <td>2006</td>\n",
       "    </tr>\n",
       "    <tr>\n",
       "      <th>3</th>\n",
       "      <td>SOBNYVR12A8C13558C</td>\n",
       "      <td>Si Vos Querés</td>\n",
       "      <td>De Culo</td>\n",
       "      <td>Yerba Brava</td>\n",
       "      <td>2003</td>\n",
       "    </tr>\n",
       "    <tr>\n",
       "      <th>4</th>\n",
       "      <td>SOHSBXH12A8C13B0DF</td>\n",
       "      <td>Tangle Of Aspens</td>\n",
       "      <td>Rene Ablaze Presents Winter Sessions</td>\n",
       "      <td>Der Mystic</td>\n",
       "      <td>0</td>\n",
       "    </tr>\n",
       "  </tbody>\n",
       "</table>\n",
       "</div>"
      ],
      "text/plain": [
       "              song_id              title  \\\n",
       "0  SOQMMHC12AB0180CB8       Silent Night   \n",
       "1  SOVFVAK12A8C1350D9        Tanssi vaan   \n",
       "2  SOGTUKN12AB017F4F1  No One Could Ever   \n",
       "3  SOBNYVR12A8C13558C      Si Vos Querés   \n",
       "4  SOHSBXH12A8C13B0DF   Tangle Of Aspens   \n",
       "\n",
       "                                release       artist_name  year  \n",
       "0                 Monster Ballads X-Mas  Faster Pussy cat  2003  \n",
       "1                           Karkuteillä  Karkkiautomaatti  1995  \n",
       "2                                Butter    Hudson Mohawke  2006  \n",
       "3                               De Culo       Yerba Brava  2003  \n",
       "4  Rene Ablaze Presents Winter Sessions        Der Mystic     0  "
      ]
     },
     "execution_count": 3,
     "metadata": {},
     "output_type": "execute_result"
    }
   ],
   "source": [
    "songs_metadata = pd.read_csv(\"./song_data.csv\")\n",
    "songs_metadata.head()"
   ]
  },
  {
   "cell_type": "code",
   "execution_count": 4,
   "metadata": {},
   "outputs": [
    {
     "data": {
      "text/html": [
       "<div>\n",
       "<style scoped>\n",
       "    .dataframe tbody tr th:only-of-type {\n",
       "        vertical-align: middle;\n",
       "    }\n",
       "\n",
       "    .dataframe tbody tr th {\n",
       "        vertical-align: top;\n",
       "    }\n",
       "\n",
       "    .dataframe thead th {\n",
       "        text-align: right;\n",
       "    }\n",
       "</style>\n",
       "<table border=\"1\" class=\"dataframe\">\n",
       "  <thead>\n",
       "    <tr style=\"text-align: right;\">\n",
       "      <th></th>\n",
       "      <th>user_id</th>\n",
       "      <th>song_id</th>\n",
       "      <th>listen_count</th>\n",
       "    </tr>\n",
       "  </thead>\n",
       "  <tbody>\n",
       "    <tr>\n",
       "      <th>0</th>\n",
       "      <td>b80344d063b5ccb3212f76538f3d9e43d87dca9e</td>\n",
       "      <td>SOBBMDR12A8C13253B</td>\n",
       "      <td>2</td>\n",
       "    </tr>\n",
       "    <tr>\n",
       "      <th>1</th>\n",
       "      <td>b80344d063b5ccb3212f76538f3d9e43d87dca9e</td>\n",
       "      <td>SOBXHDL12A81C204C0</td>\n",
       "      <td>1</td>\n",
       "    </tr>\n",
       "    <tr>\n",
       "      <th>2</th>\n",
       "      <td>b80344d063b5ccb3212f76538f3d9e43d87dca9e</td>\n",
       "      <td>SOBYHAJ12A6701BF1D</td>\n",
       "      <td>1</td>\n",
       "    </tr>\n",
       "    <tr>\n",
       "      <th>3</th>\n",
       "      <td>b80344d063b5ccb3212f76538f3d9e43d87dca9e</td>\n",
       "      <td>SODACBL12A8C13C273</td>\n",
       "      <td>1</td>\n",
       "    </tr>\n",
       "    <tr>\n",
       "      <th>4</th>\n",
       "      <td>b80344d063b5ccb3212f76538f3d9e43d87dca9e</td>\n",
       "      <td>SODDNQT12A6D4F5F7E</td>\n",
       "      <td>5</td>\n",
       "    </tr>\n",
       "  </tbody>\n",
       "</table>\n",
       "</div>"
      ],
      "text/plain": [
       "                                    user_id             song_id  listen_count\n",
       "0  b80344d063b5ccb3212f76538f3d9e43d87dca9e  SOBBMDR12A8C13253B             2\n",
       "1  b80344d063b5ccb3212f76538f3d9e43d87dca9e  SOBXHDL12A81C204C0             1\n",
       "2  b80344d063b5ccb3212f76538f3d9e43d87dca9e  SOBYHAJ12A6701BF1D             1\n",
       "3  b80344d063b5ccb3212f76538f3d9e43d87dca9e  SODACBL12A8C13C273             1\n",
       "4  b80344d063b5ccb3212f76538f3d9e43d87dca9e  SODDNQT12A6D4F5F7E             5"
      ]
     },
     "execution_count": 4,
     "metadata": {},
     "output_type": "execute_result"
    }
   ],
   "source": [
    "triplets = pd.read_csv(\"./10000.txt\", sep=\"\\t\")\n",
    "triplets.columns = [\"user_id\", \"song_id\", \"listen_count\"]\n",
    "triplets.head()"
   ]
  },
  {
   "cell_type": "code",
   "execution_count": 5,
   "metadata": {},
   "outputs": [],
   "source": [
    "fraction = 0.01\n",
    "cnt = int(len(songs_metadata) * fraction)\n",
    "\n",
    "songs_metadata = songs_metadata[:cnt]\n",
    "triplets = triplets[:cnt]"
   ]
  },
  {
   "cell_type": "code",
   "execution_count": 6,
   "metadata": {},
   "outputs": [
    {
     "data": {
      "text/html": [
       "<div>\n",
       "<style scoped>\n",
       "    .dataframe tbody tr th:only-of-type {\n",
       "        vertical-align: middle;\n",
       "    }\n",
       "\n",
       "    .dataframe tbody tr th {\n",
       "        vertical-align: top;\n",
       "    }\n",
       "\n",
       "    .dataframe thead th {\n",
       "        text-align: right;\n",
       "    }\n",
       "</style>\n",
       "<table border=\"1\" class=\"dataframe\">\n",
       "  <thead>\n",
       "    <tr style=\"text-align: right;\">\n",
       "      <th></th>\n",
       "      <th>user_id</th>\n",
       "      <th>song_id</th>\n",
       "      <th>listen_count</th>\n",
       "      <th>title</th>\n",
       "      <th>release</th>\n",
       "      <th>artist_name</th>\n",
       "      <th>year</th>\n",
       "    </tr>\n",
       "  </thead>\n",
       "  <tbody>\n",
       "    <tr>\n",
       "      <th>46</th>\n",
       "      <td>ea07020bb223c733ccc55aa925ebcc25c4d97377</td>\n",
       "      <td>SOCKJWI12AB018006A</td>\n",
       "      <td>21</td>\n",
       "      <td>Amazing</td>\n",
       "      <td>100 R&amp;B Classics: Original Anthems</td>\n",
       "      <td>Seal</td>\n",
       "      <td>2007</td>\n",
       "    </tr>\n",
       "    <tr>\n",
       "      <th>34</th>\n",
       "      <td>732f88be38fae217f8ab7e24c20dd072436e3e40</td>\n",
       "      <td>SOLPVAQ12AB017EB35</td>\n",
       "      <td>18</td>\n",
       "      <td>All Men Are Liars</td>\n",
       "      <td>Quiet Please... The New Best Of Nick Lowe</td>\n",
       "      <td>Nick Lowe</td>\n",
       "      <td>0</td>\n",
       "    </tr>\n",
       "    <tr>\n",
       "      <th>35</th>\n",
       "      <td>3ff7a31452eeabd7a4e07f0d243c674e3d0adf46</td>\n",
       "      <td>SOLPVAQ12AB017EB35</td>\n",
       "      <td>10</td>\n",
       "      <td>All Men Are Liars</td>\n",
       "      <td>Quiet Please... The New Best Of Nick Lowe</td>\n",
       "      <td>Nick Lowe</td>\n",
       "      <td>0</td>\n",
       "    </tr>\n",
       "    <tr>\n",
       "      <th>20</th>\n",
       "      <td>5a905f000fc1ff3df7ca807d57edb608863db05d</td>\n",
       "      <td>SOQISNQ12A8AE45F4C</td>\n",
       "      <td>9</td>\n",
       "      <td>Porno Disaster</td>\n",
       "      <td>Identification Parade</td>\n",
       "      <td>Octopus Project</td>\n",
       "      <td>2002</td>\n",
       "    </tr>\n",
       "    <tr>\n",
       "      <th>73</th>\n",
       "      <td>be0a4b64e9689c46e94b5a9a9c7910ee61aeb16f</td>\n",
       "      <td>SOUDGEV12A8C135FC9</td>\n",
       "      <td>7</td>\n",
       "      <td>Big Yellow Taxi</td>\n",
       "      <td>Films About Ghosts (The Best Of Counting Crows)</td>\n",
       "      <td>Counting Crows / Vanessa Carlton</td>\n",
       "      <td>2002</td>\n",
       "    </tr>\n",
       "  </tbody>\n",
       "</table>\n",
       "</div>"
      ],
      "text/plain": [
       "                                     user_id             song_id  \\\n",
       "46  ea07020bb223c733ccc55aa925ebcc25c4d97377  SOCKJWI12AB018006A   \n",
       "34  732f88be38fae217f8ab7e24c20dd072436e3e40  SOLPVAQ12AB017EB35   \n",
       "35  3ff7a31452eeabd7a4e07f0d243c674e3d0adf46  SOLPVAQ12AB017EB35   \n",
       "20  5a905f000fc1ff3df7ca807d57edb608863db05d  SOQISNQ12A8AE45F4C   \n",
       "73  be0a4b64e9689c46e94b5a9a9c7910ee61aeb16f  SOUDGEV12A8C135FC9   \n",
       "\n",
       "    listen_count              title  \\\n",
       "46            21            Amazing   \n",
       "34            18  All Men Are Liars   \n",
       "35            10  All Men Are Liars   \n",
       "20             9     Porno Disaster   \n",
       "73             7    Big Yellow Taxi   \n",
       "\n",
       "                                            release  \\\n",
       "46               100 R&B Classics: Original Anthems   \n",
       "34        Quiet Please... The New Best Of Nick Lowe   \n",
       "35        Quiet Please... The New Best Of Nick Lowe   \n",
       "20                            Identification Parade   \n",
       "73  Films About Ghosts (The Best Of Counting Crows)   \n",
       "\n",
       "                         artist_name  year  \n",
       "46                              Seal  2007  \n",
       "34                         Nick Lowe     0  \n",
       "35                         Nick Lowe     0  \n",
       "20                   Octopus Project  2002  \n",
       "73  Counting Crows / Vanessa Carlton  2002  "
      ]
     },
     "execution_count": 6,
     "metadata": {},
     "output_type": "execute_result"
    }
   ],
   "source": [
    "df = pd.merge(triplets, songs_metadata, on=\"song_id\")\n",
    "df.sort_values(\"listen_count\", ascending=False, inplace=True)\n",
    "df.head()"
   ]
  },
  {
   "cell_type": "code",
   "execution_count": 7,
   "metadata": {},
   "outputs": [
    {
     "data": {
      "text/plain": [
       "3"
      ]
     },
     "execution_count": 7,
     "metadata": {},
     "output_type": "execute_result"
    }
   ],
   "source": [
    "df = df[df['listen_count'] >= 10]\n",
    "len(df)"
   ]
  },
  {
   "cell_type": "code",
   "execution_count": 8,
   "metadata": {},
   "outputs": [
    {
     "data": {
      "text/plain": [
       "<AxesSubplot:xlabel='listen_count', ylabel='count'>"
      ]
     },
     "execution_count": 8,
     "metadata": {},
     "output_type": "execute_result"
    },
    {
     "data": {
      "image/png": "[encoded data removed]",
      "text/plain": [
       "<Figure size 432x288 with 1 Axes>"
      ]
     },
     "metadata": {
      "needs_background": "light"
     },
     "output_type": "display_data"
    }
   ],
   "source": [
    "sns.countplot(x='listen_count', data=df)"
   ]
  },
  {
   "cell_type": "code",
   "execution_count": 9,
   "metadata": {},
   "outputs": [],
   "source": [
    "df[\"listen_count\"] = (df[\"listen_count\"]-df[\"listen_count\"].min())/(df[\"listen_count\"].max()-df[\"listen_count\"].min())"
   ]
  },
  {
   "cell_type": "code",
   "execution_count": 10,
   "metadata": {},
   "outputs": [
    {
     "data": {
      "text/html": [
       "<div>\n",
       "<style scoped>\n",
       "    .dataframe tbody tr th:only-of-type {\n",
       "        vertical-align: middle;\n",
       "    }\n",
       "\n",
       "    .dataframe tbody tr th {\n",
       "        vertical-align: top;\n",
       "    }\n",
       "\n",
       "    .dataframe thead th {\n",
       "        text-align: right;\n",
       "    }\n",
       "</style>\n",
       "<table border=\"1\" class=\"dataframe\">\n",
       "  <thead>\n",
       "    <tr style=\"text-align: right;\">\n",
       "      <th></th>\n",
       "      <th>user_id</th>\n",
       "      <th>song_id</th>\n",
       "      <th>listen_count</th>\n",
       "      <th>title</th>\n",
       "      <th>release</th>\n",
       "      <th>artist_name</th>\n",
       "      <th>year</th>\n",
       "    </tr>\n",
       "  </thead>\n",
       "  <tbody>\n",
       "    <tr>\n",
       "      <th>46</th>\n",
       "      <td>ea07020bb223c733ccc55aa925ebcc25c4d97377</td>\n",
       "      <td>SOCKJWI12AB018006A</td>\n",
       "      <td>1.000000</td>\n",
       "      <td>Amazing</td>\n",
       "      <td>100 R&amp;B Classics: Original Anthems</td>\n",
       "      <td>Seal</td>\n",
       "      <td>2007</td>\n",
       "    </tr>\n",
       "    <tr>\n",
       "      <th>34</th>\n",
       "      <td>732f88be38fae217f8ab7e24c20dd072436e3e40</td>\n",
       "      <td>SOLPVAQ12AB017EB35</td>\n",
       "      <td>0.727273</td>\n",
       "      <td>All Men Are Liars</td>\n",
       "      <td>Quiet Please... The New Best Of Nick Lowe</td>\n",
       "      <td>Nick Lowe</td>\n",
       "      <td>0</td>\n",
       "    </tr>\n",
       "    <tr>\n",
       "      <th>35</th>\n",
       "      <td>3ff7a31452eeabd7a4e07f0d243c674e3d0adf46</td>\n",
       "      <td>SOLPVAQ12AB017EB35</td>\n",
       "      <td>0.000000</td>\n",
       "      <td>All Men Are Liars</td>\n",
       "      <td>Quiet Please... The New Best Of Nick Lowe</td>\n",
       "      <td>Nick Lowe</td>\n",
       "      <td>0</td>\n",
       "    </tr>\n",
       "  </tbody>\n",
       "</table>\n",
       "</div>"
      ],
      "text/plain": [
       "                                     user_id             song_id  \\\n",
       "46  ea07020bb223c733ccc55aa925ebcc25c4d97377  SOCKJWI12AB018006A   \n",
       "34  732f88be38fae217f8ab7e24c20dd072436e3e40  SOLPVAQ12AB017EB35   \n",
       "35  3ff7a31452eeabd7a4e07f0d243c674e3d0adf46  SOLPVAQ12AB017EB35   \n",
       "\n",
       "    listen_count              title  \\\n",
       "46      1.000000            Amazing   \n",
       "34      0.727273  All Men Are Liars   \n",
       "35      0.000000  All Men Are Liars   \n",
       "\n",
       "                                      release artist_name  year  \n",
       "46         100 R&B Classics: Original Anthems        Seal  2007  \n",
       "34  Quiet Please... The New Best Of Nick Lowe   Nick Lowe     0  \n",
       "35  Quiet Please... The New Best Of Nick Lowe   Nick Lowe     0  "
      ]
     },
     "execution_count": 10,
     "metadata": {},
     "output_type": "execute_result"
    }
   ],
   "source": [
    "df.head()"
   ]
  },
  {
   "cell_type": "code",
   "execution_count": 11,
   "metadata": {},
   "outputs": [],
   "source": [
    "ratings = pd.DataFrame(df.groupby('title').mean()['listen_count'])\n",
    "ratings[\"number of ratings\"] = df.groupby('title').count()['listen_count']"
   ]
  },
  {
   "cell_type": "code",
   "execution_count": 12,
   "metadata": {},
   "outputs": [
    {
     "data": {
      "text/plain": [
       "<seaborn.axisgrid.JointGrid at 0x1d4a9e57d00>"
      ]
     },
     "execution_count": 12,
     "metadata": {},
     "output_type": "execute_result"
    },
    {
     "data": {
      "image/png": "[encoded data removed]",
      "text/plain": [
       "<Figure size 432x432 with 3 Axes>"
      ]
     },
     "metadata": {
      "needs_background": "light"
     },
     "output_type": "display_data"
    }
   ],
   "source": [
    "sns.jointplot(x='listen_count', y = 'number of ratings', data=ratings)"
   ]
  },
  {
   "cell_type": "code",
   "execution_count": 13,
   "metadata": {},
   "outputs": [
    {
     "name": "stdout",
     "output_type": "stream",
     "text": [
      "2 2\n",
      "0 3 0\n"
     ]
    }
   ],
   "source": [
    "songs_with_less_nor = ratings[ratings[\"number of ratings\"] <= 10]\n",
    "print(len(songs_with_less_nor), len(ratings))\n",
    "to_remove = list(songs_with_less_nor.index)\n",
    "new_ratings = ratings[~ratings.index.isin(to_remove)]\n",
    "new_df = df[~df[\"title\"].isin(to_remove)]\n",
    "print(len(new_ratings), len(df), len(new_df))\n",
    "# ratings.sort_values(\"number of ratings\", ascending=True)"
   ]
  },
  {
   "cell_type": "code",
   "execution_count": 14,
   "metadata": {},
   "outputs": [],
   "source": [
    "df = new_df\n",
    "ratings = new_ratings"
   ]
  },
  {
   "cell_type": "code",
   "execution_count": 15,
   "metadata": {},
   "outputs": [],
   "source": [
    "songs_mat = df.pivot_table(index=\"user_id\", columns=\"title\", values=\"listen_count\")"
   ]
  },
  {
   "cell_type": "code",
   "execution_count": 16,
   "metadata": {},
   "outputs": [],
   "source": [
    "def recommend(song_title):\n",
    "    song_ratings = songs_mat[song_title]\n",
    "    similar = songs_mat.corrwith(song_ratings)\n",
    "    corr_song = pd.DataFrame(similar, columns=[\"Correlation\"])\n",
    "    corr_song.dropna(inplace=True)\n",
    "    corr_song = corr_song.join(ratings[\"number of ratings\"])\n",
    "    predictions = corr_song[corr_song[\"number of ratings\"] > 100].sort_values(\"Correlation\", ascending=False)\n",
    "    print(len(predictions))\n",
    "    return predictions.head()"
   ]
  },
  {
   "cell_type": "code",
   "execution_count": 17,
   "metadata": {},
   "outputs": [],
   "source": [
    "recommend(\"Amazing\")"
   ]
  }
 ],
 "metadata": {
  "kernelspec": {
   "display_name": "Python 3",
   "language": "python",
   "name": "python3"
  },
  "language_info": {
   "codemirror_mode": {
    "name": "ipython",
    "version": 3
   },
   "file_extension": ".py",
   "mimetype": "text/x-python",
   "name": "python",
   "nbconvert_exporter": "python",
   "pygments_lexer": "ipython3",
   "version": "3.9.0"
  }
 },
 "nbformat": 4,
 "nbformat_minor": 4
}
